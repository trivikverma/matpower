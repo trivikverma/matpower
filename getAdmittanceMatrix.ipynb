{
 "cells": [
  {
   "cell_type": "code",
   "execution_count": 12,
   "metadata": {},
   "outputs": [],
   "source": [
    "from pypower.loadcase import loadcase\n",
    "from pypower.makeYbus import makeYbus\n",
    "from pypower.ext2int import ext2int\n",
    "from pypower.idx_brch import QT\n",
    "from numpy import c_, zeros\n",
    "from os.path import dirname, join"
   ]
  },
  {
   "cell_type": "code",
   "execution_count": 13,
   "metadata": {},
   "outputs": [],
   "source": [
    "# get casedata directly from pypower\n",
    "from pypower.case9 import case9"
   ]
  },
  {
   "cell_type": "code",
   "execution_count": 14,
   "metadata": {},
   "outputs": [],
   "source": [
    "## default arguments\n",
    "## read data\n",
    "ppc = loadcase(case9())"
   ]
  },
  {
   "cell_type": "code",
   "execution_count": 15,
   "metadata": {},
   "outputs": [],
   "source": [
    "## add zero columns to branch for flows if needed\n",
    "if ppc[\"branch\"].shape[1] < QT:\n",
    "    ppc[\"branch\"] = c_[ppc[\"branch\"],\n",
    "                       zeros((ppc[\"branch\"].shape[0],\n",
    "                              QT - ppc[\"branch\"].shape[1] + 1))]\n",
    "\n",
    "## convert to internal indexing\n",
    "ppc = ext2int(ppc)\n",
    "baseMVA, bus, gen, branch = \\\n",
    "    ppc[\"baseMVA\"], ppc[\"bus\"], ppc[\"gen\"], ppc[\"branch\"]"
   ]
  },
  {
   "cell_type": "code",
   "execution_count": 16,
   "metadata": {},
   "outputs": [],
   "source": [
    "## build admittance matrices\n",
    "Ybus, Yf, Yt = makeYbus(baseMVA, bus, branch)"
   ]
  },
  {
   "cell_type": "code",
   "execution_count": 25,
   "metadata": {},
   "outputs": [
    {
     "name": "stdout",
     "output_type": "stream",
     "text": [
      "Admittance Matrix: \n",
      "  (0, 0)\t-17.3611111111j\n",
      "  (3, 0)\t17.3611111111j\n",
      "  (7, 1)\t16j\n",
      "  (1, 1)\t-16j\n",
      "  (2, 2)\t-17.0648464164j\n",
      "  (5, 2)\t17.0648464164j\n",
      "  (8, 3)\t(-1.36518771331+11.6040955631j)\n",
      "  (3, 3)\t(3.30737896203-39.3088887261j)\n",
      "  (0, 3)\t17.3611111111j\n",
      "  (4, 3)\t(-1.94219124871+10.5106820519j)\n",
      "  (4, 4)\t(3.22420038714-15.8409270142j)\n",
      "  (3, 4)\t(-1.94219124871+10.5106820519j)\n",
      "  (5, 4)\t(-1.28200913842+5.58824496236j)\n",
      "  (5, 5)\t(2.43709661931-32.1538618051j)\n",
      "  (2, 5)\t17.0648464164j\n",
      "  (4, 5)\t(-1.28200913842+5.58824496236j)\n",
      "  (6, 5)\t(-1.15508748089+9.78427042636j)\n",
      "  (6, 6)\t(2.77220995414-23.3032490233j)\n",
      "  (5, 6)\t(-1.15508748089+9.78427042636j)\n",
      "  (7, 6)\t(-1.61712247325+13.6979785969j)\n",
      "  (7, 7)\t(2.80472685254-35.4456131302j)\n",
      "  (6, 7)\t(-1.61712247325+13.6979785969j)\n",
      "  (8, 7)\t(-1.18760437929+5.97513453331j)\n",
      "  (1, 7)\t16j\n",
      "  (8, 8)\t(2.5527920926-17.3382300964j)\n",
      "  (7, 8)\t(-1.18760437929+5.97513453331j)\n",
      "  (3, 8)\t(-1.36518771331+11.6040955631j)\n"
     ]
    }
   ],
   "source": [
    "print(\"Admittance Matrix: \")\n",
    "print(Ybus)"
   ]
  },
  {
   "cell_type": "code",
   "execution_count": null,
   "metadata": {},
   "outputs": [],
   "source": []
  }
 ],
 "metadata": {
  "kernelspec": {
   "display_name": "matpower",
   "language": "python",
   "name": "matpower"
  },
  "language_info": {
   "codemirror_mode": {
    "name": "ipython",
    "version": 3
   },
   "file_extension": ".py",
   "mimetype": "text/x-python",
   "name": "python",
   "nbconvert_exporter": "python",
   "pygments_lexer": "ipython3",
   "version": "3.6.3"
  }
 },
 "nbformat": 4,
 "nbformat_minor": 2
}
